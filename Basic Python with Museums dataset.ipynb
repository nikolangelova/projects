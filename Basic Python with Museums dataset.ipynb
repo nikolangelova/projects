{
 "cells": [
  {
   "cell_type": "code",
   "execution_count": null,
   "metadata": {},
   "outputs": [],
   "source": [
    "import pandas as pd\n",
    "import numpy as np\n",
    "import os"
   ]
  },
  {
   "cell_type": "code",
   "execution_count": null,
   "metadata": {},
   "outputs": [],
   "source": [
    "project = r\"C:\\Users\\C62216A\\Documents\\Non Project\\KS sessions\""
   ]
  },
  {
   "cell_type": "code",
   "execution_count": null,
   "metadata": {},
   "outputs": [],
   "source": [
    "df = pd.read_csv(os.path.join(project, \"museums.csv\"))"
   ]
  },
  {
   "cell_type": "code",
   "execution_count": null,
   "metadata": {},
   "outputs": [],
   "source": [
    "# check the first 5 rows\n",
    "df.head()"
   ]
  },
  {
   "cell_type": "code",
   "execution_count": null,
   "metadata": {},
   "outputs": [],
   "source": [
    "# check the number of obs and the number of columns\n",
    "df.shape"
   ]
  },
  {
   "cell_type": "code",
   "execution_count": null,
   "metadata": {},
   "outputs": [],
   "source": [
    "# list all the variable names in the dataset\n",
    "list(df)"
   ]
  },
  {
   "cell_type": "code",
   "execution_count": null,
   "metadata": {},
   "outputs": [],
   "source": [
    "# check the data types of your variable\n",
    "df.dtypes"
   ]
  },
  {
   "cell_type": "code",
   "execution_count": null,
   "metadata": {},
   "outputs": [],
   "source": [
    "# Check Full dups\n",
    "df['full_dups']=df.duplicated()\n",
    "df['full_dups'].value_counts()\n",
    "# No full dups"
   ]
  },
  {
   "cell_type": "code",
   "execution_count": null,
   "metadata": {},
   "outputs": [],
   "source": [
    "df = df[df['full_dups'] == False]\n",
    "print(df.shape)"
   ]
  },
  {
   "cell_type": "code",
   "execution_count": null,
   "metadata": {},
   "outputs": [],
   "source": [
    "df['full_dups'].value_counts()"
   ]
  },
  {
   "cell_type": "code",
   "execution_count": null,
   "metadata": {},
   "outputs": [],
   "source": [
    "df['duplicate_museum_id']=df.duplicated('Museum ID')\n",
    "df['duplicate_museum_id'].value_counts()\n",
    "# No dups by ID"
   ]
  },
  {
   "cell_type": "code",
   "execution_count": null,
   "metadata": {},
   "outputs": [],
   "source": [
    "#Drop the 2 columns created for Duplicate checks from the dataset\n",
    "#Drop a variable and create a new dataset\n",
    "df = df.drop(['duplicate_museum_id','full_dups'], axis=1).copy()\n",
    "print(df.shape)"
   ]
  },
  {
   "cell_type": "code",
   "execution_count": null,
   "metadata": {},
   "outputs": [],
   "source": [
    "# Example of regular funciton\n",
    "\n",
    "def double(x):\n",
    "    return x*2\n",
    "\n",
    "df[\"museum_id_double_1\"] = double(df[\"Museum ID\"])\n",
    "df[[\"Museum ID\", 'museum_id_double_1']].head()"
   ]
  },
  {
   "cell_type": "code",
   "execution_count": null,
   "metadata": {},
   "outputs": [],
   "source": [
    "# Example of Lambda function\n",
    "# additional reading : https://www.programiz.com/python-programming/anonymous-function\n",
    "\n",
    "df[\"museum_id_double_2\"]=df[\"Museum ID\"].apply(lambda x: x * 2)\n",
    "df[[\"Museum ID\", 'museum_id_double_1', \"museum_id_double_2\"]].head()"
   ]
  },
  {
   "cell_type": "code",
   "execution_count": null,
   "metadata": {},
   "outputs": [],
   "source": [
    "df = df.drop(['museum_id_double_1','museum_id_double_2'], axis=1).copy()\n",
    "print(df.shape)"
   ]
  },
  {
   "cell_type": "code",
   "execution_count": null,
   "metadata": {},
   "outputs": [],
   "source": [
    "df.head()"
   ]
  },
  {
   "cell_type": "code",
   "execution_count": null,
   "metadata": {},
   "outputs": [],
   "source": [
    "df.sort_values(by='Revenue',ascending=True)"
   ]
  },
  {
   "cell_type": "code",
   "execution_count": null,
   "metadata": {},
   "outputs": [],
   "source": [
    "# check what is the maximum revenue per state\n",
    "\n",
    "# Additional Reading : https://pbpython.com/pandas_transform.html\n",
    "\n",
    "df['max_revenue_per_state'] = df.groupby([\"State (Administrative Location)\"])[\"Revenue\"].transform('max')"
   ]
  },
  {
   "cell_type": "code",
   "execution_count": null,
   "metadata": {},
   "outputs": [],
   "source": [
    "# cross-tab of the maximum revenue per state and the state\n",
    "\n",
    "pd.crosstab(df['State (Administrative Location)'],df['max_revenue_per_state'])"
   ]
  },
  {
   "cell_type": "code",
   "execution_count": null,
   "metadata": {},
   "outputs": [],
   "source": [
    "# check the first 10 rows of Revenue in Los Angeles\n",
    "df[df['City (Administrative Location)'] == 'LOS ANGELES']['Revenue'].head(10)"
   ]
  },
  {
   "cell_type": "code",
   "execution_count": null,
   "metadata": {},
   "outputs": [],
   "source": [
    "# we can group by City and State and fill in the Revenue with the one of the previous / next record\n",
    "\n",
    "# backwards fill\n",
    "df['revenue_filled'] = df.groupby(['City (Administrative Location)'])['Revenue'].bfill()\n",
    "\n",
    "# check the first 10 rows of filled in Revenue in Los Angeles\n",
    "df[df['City (Administrative Location)'] == 'LOS ANGELES']['revenue_filled'].head(10)"
   ]
  },
  {
   "cell_type": "code",
   "execution_count": null,
   "metadata": {},
   "outputs": [],
   "source": [
    "# forward fill\n",
    "df['revenue_filled'] = df.groupby(['City (Administrative Location)'])['revenue_filled'].ffill()\n",
    "\n",
    "# check the first 10 rows of filled in Revenue in Los Angeles\n",
    "df[df['City (Administrative Location)'] == 'LOS ANGELES']['revenue_filled'].head(10)"
   ]
  },
  {
   "cell_type": "code",
   "execution_count": null,
   "metadata": {},
   "outputs": [],
   "source": [
    "# check quickly some statistics for a numeric variable\n",
    "\n",
    "df['revenue_filled'].describe()"
   ]
  },
  {
   "cell_type": "code",
   "execution_count": null,
   "metadata": {},
   "outputs": [],
   "source": [
    "df['Revenue'].describe()"
   ]
  },
  {
   "cell_type": "code",
   "execution_count": null,
   "metadata": {},
   "outputs": [],
   "source": [
    "# check what is the mean revenue per City after we have filled in the missings\n",
    "# Additional Reading : https://pbpython.com/pandas_transform.html\n",
    "\n",
    "df['mean_revenue_per_city'] = df.groupby([\"City (Administrative Location)\"])[\"revenue_filled\"].transform('mean')"
   ]
  },
  {
   "cell_type": "code",
   "execution_count": null,
   "metadata": {},
   "outputs": [],
   "source": [
    "pd.options.display.precision = 45\n",
    "df[df['City (Administrative Location)'] == 'LOS ANGELES']['mean_revenue_per_city'].value_counts(dropna=False)"
   ]
  },
  {
   "cell_type": "code",
   "execution_count": null,
   "metadata": {},
   "outputs": [],
   "source": [
    "# Alternative way of getting the number of museums , mean and max revenue per city in a report\n",
    "\n",
    "df.groupby([\"City (Administrative Location)\"]) \\\n",
    "    .agg(total = ('City (Administrative Location)', 'count'),\n",
    "         mean_revenue = ('revenue_filled', 'mean'),\n",
    "         max_revenue = ('revenue_filled', 'max')) \\\n",
    "    .reset_index() \\\n",
    "    .to_excel(project + '\\\\' + 'Report.xlsx')"
   ]
  },
  {
   "cell_type": "code",
   "execution_count": null,
   "metadata": {},
   "outputs": [],
   "source": [
    "df['State (Administrative Location)'].value_counts(dropna=False)"
   ]
  },
  {
   "cell_type": "code",
   "execution_count": null,
   "metadata": {},
   "outputs": [],
   "source": [
    "# create a subset with only records that match a specific condition\n",
    "\n",
    "subset_NY_CA = df[df['State (Administrative Location)'].isin(['NY',\n",
    "                                                              'CA'])]"
   ]
  },
  {
   "cell_type": "code",
   "execution_count": null,
   "metadata": {},
   "outputs": [],
   "source": [
    "subset_NY_CA['State (Administrative Location)'].value_counts(dropna=False)"
   ]
  },
  {
   "cell_type": "code",
   "execution_count": null,
   "metadata": {},
   "outputs": [],
   "source": [
    "subset_NY_CA.to_csv(r'C:\\Users\\C62216A\\Documents\\Non Project\\KS sessions\\subset.csv',  index = False)"
   ]
  },
  {
   "cell_type": "code",
   "execution_count": null,
   "metadata": {},
   "outputs": [],
   "source": [
    "# Creating a flag variable\n",
    "\n",
    "df['missing_revenue_flag'] = np.where(df['Revenue'].isna(),\n",
    "                                     \"Missing Revenue\",\n",
    "                                     \"Not Missing Revenue\")"
   ]
  },
  {
   "cell_type": "code",
   "execution_count": null,
   "metadata": {},
   "outputs": [],
   "source": [
    "df[['missing_revenue_flag', 'Revenue']].tail()"
   ]
  },
  {
   "cell_type": "code",
   "execution_count": null,
   "metadata": {},
   "outputs": [],
   "source": [
    "# Creating a score variable\n",
    "\n",
    "df['score'] = (\n",
    "    np.select(\n",
    "        condlist=[(df['Revenue'].isna()) | (df['Revenue']<= 10000),\n",
    "                  ((10000 < df['Revenue']) & (df['Revenue'] <= 50000)),\n",
    "                  50000 < df['Revenue']],\n",
    "        choicelist=[\"Low Revenue\", \"Medium Revenue\", \"High Revenue\"],\n",
    "        default=99999))\n"
   ]
  },
  {
   "cell_type": "code",
   "execution_count": null,
   "metadata": {},
   "outputs": [],
   "source": [
    "df[['score', 'Revenue']].tail()"
   ]
  },
  {
   "cell_type": "code",
   "execution_count": null,
   "metadata": {},
   "outputs": [],
   "source": []
  }
 ],
 "metadata": {
  "kernelspec": {
   "display_name": "env14",
   "language": "python",
   "name": "env14"
  },
  "language_info": {
   "codemirror_mode": {
    "name": "ipython",
    "version": 3
   },
   "file_extension": ".py",
   "mimetype": "text/x-python",
   "name": "python",
   "nbconvert_exporter": "python",
   "pygments_lexer": "ipython3",
   "version": "3.7.9"
  }
 },
 "nbformat": 4,
 "nbformat_minor": 4
}
